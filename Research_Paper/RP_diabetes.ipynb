{
 "cells": [
  {
   "cell_type": "code",
   "execution_count": 44,
   "id": "1d11c2c2",
   "metadata": {},
   "outputs": [
    {
     "data": {
      "text/html": [
       "<div>\n",
       "<style scoped>\n",
       "    .dataframe tbody tr th:only-of-type {\n",
       "        vertical-align: middle;\n",
       "    }\n",
       "\n",
       "    .dataframe tbody tr th {\n",
       "        vertical-align: top;\n",
       "    }\n",
       "\n",
       "    .dataframe thead th {\n",
       "        text-align: right;\n",
       "    }\n",
       "</style>\n",
       "<table border=\"1\" class=\"dataframe\">\n",
       "  <thead>\n",
       "    <tr style=\"text-align: right;\">\n",
       "      <th></th>\n",
       "      <th>Pregnancies</th>\n",
       "      <th>Glucose</th>\n",
       "      <th>BloodPressure</th>\n",
       "      <th>SkinThickness</th>\n",
       "      <th>Insulin</th>\n",
       "      <th>BMI</th>\n",
       "      <th>DiabetesPedigreeFunction</th>\n",
       "      <th>Age</th>\n",
       "      <th>Outcome</th>\n",
       "    </tr>\n",
       "  </thead>\n",
       "  <tbody>\n",
       "    <tr>\n",
       "      <th>0</th>\n",
       "      <td>6</td>\n",
       "      <td>148</td>\n",
       "      <td>72</td>\n",
       "      <td>35</td>\n",
       "      <td>0</td>\n",
       "      <td>33.6</td>\n",
       "      <td>0.627</td>\n",
       "      <td>50</td>\n",
       "      <td>1</td>\n",
       "    </tr>\n",
       "    <tr>\n",
       "      <th>1</th>\n",
       "      <td>1</td>\n",
       "      <td>85</td>\n",
       "      <td>66</td>\n",
       "      <td>29</td>\n",
       "      <td>0</td>\n",
       "      <td>26.6</td>\n",
       "      <td>0.351</td>\n",
       "      <td>31</td>\n",
       "      <td>0</td>\n",
       "    </tr>\n",
       "    <tr>\n",
       "      <th>2</th>\n",
       "      <td>8</td>\n",
       "      <td>183</td>\n",
       "      <td>64</td>\n",
       "      <td>0</td>\n",
       "      <td>0</td>\n",
       "      <td>23.3</td>\n",
       "      <td>0.672</td>\n",
       "      <td>32</td>\n",
       "      <td>1</td>\n",
       "    </tr>\n",
       "    <tr>\n",
       "      <th>3</th>\n",
       "      <td>1</td>\n",
       "      <td>89</td>\n",
       "      <td>66</td>\n",
       "      <td>23</td>\n",
       "      <td>94</td>\n",
       "      <td>28.1</td>\n",
       "      <td>0.167</td>\n",
       "      <td>21</td>\n",
       "      <td>0</td>\n",
       "    </tr>\n",
       "    <tr>\n",
       "      <th>4</th>\n",
       "      <td>0</td>\n",
       "      <td>137</td>\n",
       "      <td>40</td>\n",
       "      <td>35</td>\n",
       "      <td>168</td>\n",
       "      <td>43.1</td>\n",
       "      <td>2.288</td>\n",
       "      <td>33</td>\n",
       "      <td>1</td>\n",
       "    </tr>\n",
       "  </tbody>\n",
       "</table>\n",
       "</div>"
      ],
      "text/plain": [
       "   Pregnancies  Glucose  BloodPressure  SkinThickness  Insulin   BMI  \\\n",
       "0            6      148             72             35        0  33.6   \n",
       "1            1       85             66             29        0  26.6   \n",
       "2            8      183             64              0        0  23.3   \n",
       "3            1       89             66             23       94  28.1   \n",
       "4            0      137             40             35      168  43.1   \n",
       "\n",
       "   DiabetesPedigreeFunction  Age  Outcome  \n",
       "0                     0.627   50        1  \n",
       "1                     0.351   31        0  \n",
       "2                     0.672   32        1  \n",
       "3                     0.167   21        0  \n",
       "4                     2.288   33        1  "
      ]
     },
     "execution_count": 44,
     "metadata": {},
     "output_type": "execute_result"
    }
   ],
   "source": [
    "import pandas as pd\n",
    "df=pd.read_csv('diabetes.csv')\n",
    "df.head()"
   ]
  },
  {
   "cell_type": "code",
   "execution_count": 45,
   "id": "9ec45f9e",
   "metadata": {},
   "outputs": [
    {
     "data": {
      "text/plain": [
       "(768, 9)"
      ]
     },
     "execution_count": 45,
     "metadata": {},
     "output_type": "execute_result"
    }
   ],
   "source": [
    "df.shape"
   ]
  },
  {
   "cell_type": "code",
   "execution_count": 46,
   "id": "e2336390",
   "metadata": {},
   "outputs": [
    {
     "data": {
      "text/plain": [
       "Pregnancies                 0\n",
       "Glucose                     0\n",
       "BloodPressure               0\n",
       "SkinThickness               0\n",
       "Insulin                     0\n",
       "BMI                         0\n",
       "DiabetesPedigreeFunction    0\n",
       "Age                         0\n",
       "Outcome                     0\n",
       "dtype: int64"
      ]
     },
     "execution_count": 46,
     "metadata": {},
     "output_type": "execute_result"
    }
   ],
   "source": [
    "df.isnull().sum()"
   ]
  },
  {
   "cell_type": "code",
   "execution_count": 47,
   "id": "a15eb5d1",
   "metadata": {},
   "outputs": [],
   "source": [
    "X=df.drop('Outcome',axis=1).values\n",
    "y=df['Outcome'].values"
   ]
  },
  {
   "cell_type": "code",
   "execution_count": 48,
   "id": "3965ef9e",
   "metadata": {},
   "outputs": [],
   "source": [
    "from sklearn.model_selection import train_test_split\n",
    "X_train,X_test,y_train,y_test=train_test_split(X,y,test_size=0.1,random_state=0)"
   ]
  },
  {
   "cell_type": "code",
   "execution_count": 49,
   "id": "3c398ed9",
   "metadata": {},
   "outputs": [],
   "source": [
    "import torch\n",
    "import torch.nn as nn\n",
    "import torch.nn.functional as F"
   ]
  },
  {
   "cell_type": "code",
   "execution_count": 50,
   "id": "7007fe17",
   "metadata": {},
   "outputs": [],
   "source": [
    "X_train=torch.FloatTensor(X_train)\n",
    "X_test=torch.FloatTensor(X_test)\n",
    "y_train=torch.LongTensor(y_train)\n",
    "y_test=torch.LongTensor(y_test)"
   ]
  },
  {
   "cell_type": "markdown",
   "id": "678927b5",
   "metadata": {},
   "source": [
    "### Decoder"
   ]
  },
  {
   "cell_type": "code",
   "execution_count": 51,
   "id": "8399b559",
   "metadata": {},
   "outputs": [],
   "source": [
    "class Decoder(nn.Module):\n",
    "    def __init__(self,input_features=8,hidden1=8,hidden2=200,hidden3=200,hidden4=300,hidden5=300,hidden6=400,hidden7=400,hidden8=300,hidden9=300,out_features=2):\n",
    "        super().__init__()\n",
    "        self.f_connected1=nn.Linear(input_features,hidden1)\n",
    "        self.f_connected2=nn.Linear(hidden1,hidden2)\n",
    "        self.f_connected3=nn.Linear(hidden2,hidden3)\n",
    "        self.f_connected4=nn.Linear(hidden3,hidden4)\n",
    "        self.f_connected5=nn.Linear(hidden4,hidden5)\n",
    "        self.f_connected6=nn.Linear(hidden5,hidden6)\n",
    "        self.f_connected7=nn.Linear(hidden6,hidden7)\n",
    "        self.f_connected8=nn.Linear(hidden7,hidden8)\n",
    "        self.f_connected9=nn.Linear(hidden8,hidden9)\n",
    "        self.out=nn.Linear(hidden9,out_features)\n",
    "    def forward(self,x):\n",
    "        x=F.relu(self.f_connected1(x))\n",
    "        x=F.relu(self.f_connected2(x))\n",
    "        x=F.relu(self.f_connected3(x))\n",
    "        x=F.relu(self.f_connected4(x))\n",
    "        x=F.relu(self.f_connected5(x))\n",
    "        x=F.relu(self.f_connected6(x))\n",
    "        x=F.relu(self.f_connected7(x))\n",
    "        x=F.relu(self.f_connected8(x))\n",
    "        x=F.relu(self.f_connected9(x))\n",
    "        x=self.out(x)\n",
    "        return x"
   ]
  },
  {
   "cell_type": "code",
   "execution_count": 52,
   "id": "a59502ed",
   "metadata": {},
   "outputs": [],
   "source": [
    "torch.manual_seed(20)\n",
    "model = Decoder()"
   ]
  },
  {
   "cell_type": "code",
   "execution_count": 53,
   "id": "50d0283a",
   "metadata": {},
   "outputs": [
    {
     "data": {
      "text/plain": [
       "<bound method Module.parameters of Decoder(\n",
       "  (f_connected1): Linear(in_features=8, out_features=8, bias=True)\n",
       "  (f_connected2): Linear(in_features=8, out_features=200, bias=True)\n",
       "  (f_connected3): Linear(in_features=200, out_features=200, bias=True)\n",
       "  (f_connected4): Linear(in_features=200, out_features=300, bias=True)\n",
       "  (f_connected5): Linear(in_features=300, out_features=300, bias=True)\n",
       "  (f_connected6): Linear(in_features=300, out_features=400, bias=True)\n",
       "  (f_connected7): Linear(in_features=400, out_features=400, bias=True)\n",
       "  (f_connected8): Linear(in_features=400, out_features=300, bias=True)\n",
       "  (f_connected9): Linear(in_features=300, out_features=300, bias=True)\n",
       "  (out): Linear(in_features=300, out_features=2, bias=True)\n",
       ")>"
      ]
     },
     "execution_count": 53,
     "metadata": {},
     "output_type": "execute_result"
    }
   ],
   "source": [
    "model.parameters"
   ]
  },
  {
   "cell_type": "code",
   "execution_count": 54,
   "id": "98fffaef",
   "metadata": {},
   "outputs": [
    {
     "data": {
      "text/plain": [
       "<generator object Module.parameters at 0x7fc4b8c18820>"
      ]
     },
     "execution_count": 54,
     "metadata": {},
     "output_type": "execute_result"
    }
   ],
   "source": [
    "model.parameters()"
   ]
  },
  {
   "cell_type": "code",
   "execution_count": 55,
   "id": "44418bd0",
   "metadata": {},
   "outputs": [],
   "source": [
    "loss_function = nn.CrossEntropyLoss()\n",
    "optimizer = torch.optim.Adam(model.parameters(), lr = 0.01) "
   ]
  },
  {
   "cell_type": "code",
   "execution_count": 56,
   "id": "ce7c8723",
   "metadata": {},
   "outputs": [
    {
     "name": "stdout",
     "output_type": "stream",
     "text": [
      "Epoch number: 1 and the loss: 0.6994479298591614\n",
      "Epoch number: 11 and the loss: 0.6807885766029358\n",
      "Epoch number: 21 and the loss: 0.6516156196594238\n",
      "Epoch number: 31 and the loss: 0.6306445002555847\n",
      "Epoch number: 41 and the loss: 0.6166210174560547\n",
      "Epoch number: 51 and the loss: 0.5757931470870972\n",
      "Epoch number: 61 and the loss: 0.5477321147918701\n",
      "Epoch number: 71 and the loss: 0.5501350164413452\n",
      "Epoch number: 81 and the loss: 0.541769802570343\n",
      "Epoch number: 91 and the loss: 0.5239008069038391\n",
      "Epoch number: 101 and the loss: 0.5185975432395935\n",
      "Epoch number: 111 and the loss: 0.526075005531311\n",
      "Epoch number: 121 and the loss: 0.5419977307319641\n",
      "Epoch number: 131 and the loss: 0.508708655834198\n",
      "Epoch number: 141 and the loss: 0.49814125895500183\n",
      "Epoch number: 151 and the loss: 0.4873463213443756\n",
      "Epoch number: 161 and the loss: 0.47971105575561523\n",
      "Epoch number: 171 and the loss: 0.4749397337436676\n",
      "Epoch number: 181 and the loss: 0.4853869676589966\n",
      "Epoch number: 191 and the loss: 0.48851099610328674\n",
      "Epoch number: 201 and the loss: 0.4815758168697357\n",
      "Epoch number: 211 and the loss: 0.4638412594795227\n",
      "Epoch number: 221 and the loss: 0.4751475751399994\n",
      "Epoch number: 231 and the loss: 0.45766469836235046\n",
      "Epoch number: 241 and the loss: 0.48991793394088745\n",
      "Epoch number: 251 and the loss: 0.46003299951553345\n",
      "Epoch number: 261 and the loss: 0.456523060798645\n",
      "Epoch number: 271 and the loss: 0.451443076133728\n",
      "Epoch number: 281 and the loss: 0.49172818660736084\n",
      "Epoch number: 291 and the loss: 0.4534727931022644\n",
      "Epoch number: 301 and the loss: 0.4735989272594452\n",
      "Epoch number: 311 and the loss: 0.46007436513900757\n",
      "Epoch number: 321 and the loss: 0.4749120771884918\n",
      "Epoch number: 331 and the loss: 0.4534558057785034\n",
      "Epoch number: 341 and the loss: 0.4456106424331665\n",
      "Epoch number: 351 and the loss: 0.44566768407821655\n",
      "Epoch number: 361 and the loss: 0.449868768453598\n",
      "Epoch number: 371 and the loss: 0.44445058703422546\n",
      "Epoch number: 381 and the loss: 0.44217562675476074\n",
      "Epoch number: 391 and the loss: 0.4686286747455597\n",
      "Epoch number: 401 and the loss: 0.46138590574264526\n",
      "Epoch number: 411 and the loss: 0.46292051672935486\n",
      "Epoch number: 421 and the loss: 0.46894127130508423\n",
      "Epoch number: 431 and the loss: 0.4549199640750885\n",
      "Epoch number: 441 and the loss: 0.43369922041893005\n",
      "Epoch number: 451 and the loss: 0.4268139600753784\n",
      "Epoch number: 461 and the loss: 0.5056172013282776\n",
      "Epoch number: 471 and the loss: 0.47482794523239136\n",
      "Epoch number: 481 and the loss: 0.5668880939483643\n",
      "Epoch number: 491 and the loss: 0.525562047958374\n"
     ]
    }
   ],
   "source": [
    "epochs = 500\n",
    "final_losses = []\n",
    "for i in range(epochs):\n",
    "    i = i + 1\n",
    "    y_pred = model.forward(X_train)\n",
    "    loss=loss_function(y_pred, y_train)\n",
    "    final_losses.append(loss.item())\n",
    "    if i%10==1:\n",
    "        print(\"Epoch number: {} and the loss: {}\".format(i, loss.item()))\n",
    "    optimizer.zero_grad()\n",
    "    loss.backward()\n",
    "    optimizer.step()"
   ]
  },
  {
   "cell_type": "markdown",
   "id": "5e368192",
   "metadata": {},
   "source": [
    "### Classifier"
   ]
  },
  {
   "cell_type": "code",
   "execution_count": 240,
   "id": "d3787ac1",
   "metadata": {},
   "outputs": [],
   "source": [
    "X_train=torch.FloatTensor(X_train)\n",
    "X_test=torch.FloatTensor(X_test)\n",
    "y_train=torch.LongTensor(y_train)\n",
    "y_test=torch.LongTensor(y_test)"
   ]
  },
  {
   "cell_type": "code",
   "execution_count": 246,
   "id": "9332cb1c",
   "metadata": {},
   "outputs": [],
   "source": [
    "class Classifier(nn.Module):\n",
    "    def __init__(self,input_features=8,hidden1=8,hidden2=200,hidden3=200,hidden4=300,hidden5=300,hidden6=400,hidden7=400, out_features=2):\n",
    "        super().__init__()\n",
    "        self.f_connected1=nn.Linear(input_features,hidden1)\n",
    "        self.f_connected2=nn.Linear(hidden1,hidden2)\n",
    "        #self.f_connected3=nn.Linear(hidden2,hidden3)\n",
    "        self.f_connected4=nn.Linear(hidden3,hidden4)\n",
    "        #self.f_connected5=nn.Linear(hidden4,hidden5)\n",
    "        self.f_connected6=nn.Linear(hidden5,hidden6)\n",
    "        self.f_connected7=nn.Linear(hidden6,hidden7)\n",
    "        #reshape using tensor_name.reshape(20,20,1)\n",
    "        self.conv1 = torch.nn.Conv2d(1, 100, kernel_size = (2,6), stride = 1)\n",
    "        self.f_connected8=nn.Linear(1800,35)\n",
    "        self.out=nn.Linear(35,out_features)\n",
    "    def forward(self,x):\n",
    "        dropout=nn.Dropout(p=0.2)\n",
    "        pooling=nn.MaxPool2d((2,6))\n",
    "        x=F.relu(self.f_connected1(x))\n",
    "        x=F.relu(self.f_connected2(x))\n",
    "        dropout(x)\n",
    "        #x=F.relu(self.f_connected3(x))\n",
    "        x=F.relu(self.f_connected4(x))\n",
    "        dropout(x)\n",
    "        #x=F.relu(self.f_connected5(x))\n",
    "        x=F.relu(self.f_connected6(x))\n",
    "        x=F.relu(self.f_connected7(x))\n",
    "        #print(x.shape)\n",
    "        x=x.view(-1,1,20,20)\n",
    "        x=F.relu(self.conv1(x))\n",
    "        x = dropout(x)\n",
    "        x = pooling(x)\n",
    "        x = dropout(x)\n",
    "        x=x.view(-1, 9*2*100)\n",
    "        #x = torch.flatten(x)\n",
    "        #x.reshape(-1)\n",
    "        #x.flatten()\n",
    "        #x.reshape([1,9*2*100])\n",
    "        x=F.relu(self.f_connected8(x))\n",
    "        x=self.out(x)\n",
    "        return x"
   ]
  },
  {
   "cell_type": "code",
   "execution_count": 247,
   "id": "c65c82c7",
   "metadata": {},
   "outputs": [],
   "source": [
    "torch.manual_seed(20)\n",
    "model_classifier = Classifier()"
   ]
  },
  {
   "cell_type": "code",
   "execution_count": 248,
   "id": "227c530b",
   "metadata": {},
   "outputs": [
    {
     "data": {
      "text/plain": [
       "<bound method Module.parameters of Classifier(\n",
       "  (f_connected1): Linear(in_features=8, out_features=8, bias=True)\n",
       "  (f_connected2): Linear(in_features=8, out_features=200, bias=True)\n",
       "  (f_connected4): Linear(in_features=200, out_features=300, bias=True)\n",
       "  (f_connected6): Linear(in_features=300, out_features=400, bias=True)\n",
       "  (f_connected7): Linear(in_features=400, out_features=400, bias=True)\n",
       "  (conv1): Conv2d(1, 100, kernel_size=(2, 6), stride=(1, 1))\n",
       "  (f_connected8): Linear(in_features=1800, out_features=35, bias=True)\n",
       "  (out): Linear(in_features=35, out_features=2, bias=True)\n",
       ")>"
      ]
     },
     "execution_count": 248,
     "metadata": {},
     "output_type": "execute_result"
    }
   ],
   "source": [
    "model_classifier.parameters"
   ]
  },
  {
   "cell_type": "code",
   "execution_count": 249,
   "id": "b575894a",
   "metadata": {},
   "outputs": [],
   "source": [
    "loss_function = nn.CrossEntropyLoss()\n",
    "optimizer = torch.optim.Adam(model_classifier.parameters(), lr = 0.01) "
   ]
  },
  {
   "cell_type": "code",
   "execution_count": 250,
   "id": "2529fd8b",
   "metadata": {},
   "outputs": [
    {
     "name": "stdout",
     "output_type": "stream",
     "text": [
      "Epoch number: 1 and the loss: 0.6915032863616943\n",
      "Epoch number: 11 and the loss: 0.9272639155387878\n",
      "Epoch number: 21 and the loss: 0.6593438982963562\n",
      "Epoch number: 31 and the loss: 0.6351251602172852\n",
      "Epoch number: 41 and the loss: 0.6105131506919861\n",
      "Epoch number: 51 and the loss: 0.5539941787719727\n",
      "Epoch number: 61 and the loss: 0.5473576188087463\n",
      "Epoch number: 71 and the loss: 0.5374903678894043\n",
      "Epoch number: 81 and the loss: 0.5293663740158081\n",
      "Epoch number: 91 and the loss: 0.5167360305786133\n",
      "Epoch number: 101 and the loss: 0.5058948993682861\n",
      "Epoch number: 111 and the loss: 0.5138890147209167\n",
      "Epoch number: 121 and the loss: 0.4912680983543396\n",
      "Epoch number: 131 and the loss: 0.5015251636505127\n",
      "Epoch number: 141 and the loss: 0.4778710603713989\n",
      "Epoch number: 151 and the loss: 0.47853899002075195\n",
      "Epoch number: 161 and the loss: 0.48367831110954285\n",
      "Epoch number: 171 and the loss: 0.491939902305603\n",
      "Epoch number: 181 and the loss: 0.5025209188461304\n",
      "Epoch number: 191 and the loss: 0.49483925104141235\n",
      "Epoch number: 201 and the loss: 0.4632653594017029\n",
      "Epoch number: 211 and the loss: 0.4977189898490906\n",
      "Epoch number: 221 and the loss: 0.46438518166542053\n",
      "Epoch number: 231 and the loss: 0.4575078785419464\n",
      "Epoch number: 241 and the loss: 0.4663989841938019\n",
      "Epoch number: 251 and the loss: 0.4531387686729431\n",
      "Epoch number: 261 and the loss: 0.47031402587890625\n",
      "Epoch number: 271 and the loss: 0.4666321277618408\n",
      "Epoch number: 281 and the loss: 0.44502711296081543\n",
      "Epoch number: 291 and the loss: 0.4487552344799042\n",
      "Epoch number: 301 and the loss: 0.4453780949115753\n",
      "Epoch number: 311 and the loss: 0.44351726770401\n",
      "Epoch number: 321 and the loss: 0.4607959985733032\n",
      "Epoch number: 331 and the loss: 0.5107530355453491\n",
      "Epoch number: 341 and the loss: 0.4662989675998688\n",
      "Epoch number: 351 and the loss: 0.4414201080799103\n",
      "Epoch number: 361 and the loss: 0.44885051250457764\n",
      "Epoch number: 371 and the loss: 0.45595782995224\n",
      "Epoch number: 381 and the loss: 0.438996821641922\n",
      "Epoch number: 391 and the loss: 0.46983057260513306\n",
      "Epoch number: 401 and the loss: 0.46358180046081543\n",
      "Epoch number: 411 and the loss: 0.45219868421554565\n",
      "Epoch number: 421 and the loss: 0.43485525250434875\n",
      "Epoch number: 431 and the loss: 0.44888097047805786\n",
      "Epoch number: 441 and the loss: 0.4297490119934082\n",
      "Epoch number: 451 and the loss: 0.41044193506240845\n",
      "Epoch number: 461 and the loss: 0.45886486768722534\n",
      "Epoch number: 471 and the loss: 0.4185464680194855\n",
      "Epoch number: 481 and the loss: 0.4494377672672272\n",
      "Epoch number: 491 and the loss: 0.4439493715763092\n",
      "Epoch number: 501 and the loss: 0.42194435000419617\n",
      "Epoch number: 511 and the loss: 0.4626682996749878\n",
      "Epoch number: 521 and the loss: 0.42487436532974243\n",
      "Epoch number: 531 and the loss: 0.4333244264125824\n",
      "Epoch number: 541 and the loss: 0.41778847575187683\n",
      "Epoch number: 551 and the loss: 0.439044326543808\n",
      "Epoch number: 561 and the loss: 0.45305633544921875\n",
      "Epoch number: 571 and the loss: 0.4281129539012909\n",
      "Epoch number: 581 and the loss: 0.4013718366622925\n",
      "Epoch number: 591 and the loss: 0.4098922312259674\n"
     ]
    }
   ],
   "source": [
    "epochs = 600\n",
    "final_losses_classifier = []\n",
    "for i in range(epochs):\n",
    "    i = i + 1\n",
    "    y_pred = model_classifier.forward(X_train)\n",
    "    loss=loss_function(y_pred, y_train)\n",
    "    final_losses_classifier.append(loss.item())\n",
    "    if i%10==1:\n",
    "        print(\"Epoch number: {} and the loss: {}\".format(i, loss.item()))\n",
    "    optimizer.zero_grad()\n",
    "    loss.backward()\n",
    "    optimizer.step()"
   ]
  },
  {
   "cell_type": "markdown",
   "id": "e2bf0a26",
   "metadata": {},
   "source": [
    "#### Check:\n",
    "In the nn made in classfier, the output layer has 2 neurons instead of 1 as given in the paper\n"
   ]
  }
 ],
 "metadata": {
  "kernelspec": {
   "display_name": "Python 3 (ipykernel)",
   "language": "python",
   "name": "python3"
  },
  "language_info": {
   "codemirror_mode": {
    "name": "ipython",
    "version": 3
   },
   "file_extension": ".py",
   "mimetype": "text/x-python",
   "name": "python",
   "nbconvert_exporter": "python",
   "pygments_lexer": "ipython3",
   "version": "3.9.12"
  }
 },
 "nbformat": 4,
 "nbformat_minor": 5
}
